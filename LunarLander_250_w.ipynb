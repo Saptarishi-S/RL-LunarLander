{
  "cells": [
    {
      "cell_type": "code",
      "source": [
        "!pip install pygame"
      ],
      "metadata": {
        "colab": {
          "base_uri": "https://localhost:8080/"
        },
        "id": "5mjqkAtvXTkL",
        "outputId": "be9691dd-8a5a-4d8b-849e-8904fb8196ed"
      },
      "id": "5mjqkAtvXTkL",
      "execution_count": 1,
      "outputs": [
        {
          "output_type": "stream",
          "name": "stdout",
          "text": [
            "Requirement already satisfied: pygame in /usr/local/lib/python3.11/dist-packages (2.6.1)\n"
          ]
        }
      ]
    },
    {
      "cell_type": "code",
      "source": [
        "!pip install numpy==1.23.0  # This restarts the runtime to apply the new NumPy version\n"
      ],
      "metadata": {
        "colab": {
          "base_uri": "https://localhost:8080/"
        },
        "id": "C_LXFOz1O8Qh",
        "outputId": "187ee8b7-0591-4851-9965-bde1e77dd67d"
      },
      "id": "C_LXFOz1O8Qh",
      "execution_count": 1,
      "outputs": [
        {
          "output_type": "stream",
          "name": "stdout",
          "text": [
            "Requirement already satisfied: numpy==1.23.0 in /usr/local/lib/python3.11/dist-packages (1.23.0)\n"
          ]
        }
      ]
    },
    {
      "cell_type": "code",
      "source": [
        "!pip install gym"
      ],
      "metadata": {
        "colab": {
          "base_uri": "https://localhost:8080/"
        },
        "id": "lqbXkrIbV8ai",
        "outputId": "f567af1a-bda9-4c36-bbdc-e8c9ff75c5d2"
      },
      "id": "lqbXkrIbV8ai",
      "execution_count": 5,
      "outputs": [
        {
          "output_type": "stream",
          "name": "stdout",
          "text": [
            "Requirement already satisfied: gym in /usr/local/lib/python3.11/dist-packages (0.25.2)\n",
            "Requirement already satisfied: numpy>=1.18.0 in /usr/local/lib/python3.11/dist-packages (from gym) (2.0.2)\n",
            "Requirement already satisfied: cloudpickle>=1.2.0 in /usr/local/lib/python3.11/dist-packages (from gym) (3.1.1)\n",
            "Requirement already satisfied: gym-notices>=0.0.4 in /usr/local/lib/python3.11/dist-packages (from gym) (0.0.8)\n"
          ]
        }
      ]
    },
    {
      "cell_type": "code",
      "source": [
        "!pip install numpy==1.23.0"
      ],
      "metadata": {
        "colab": {
          "base_uri": "https://localhost:8080/",
          "height": 919
        },
        "id": "Sxh-2YN_WEv6",
        "outputId": "a67cbe94-0354-4685-a290-94bb198f0963"
      },
      "id": "Sxh-2YN_WEv6",
      "execution_count": 5,
      "outputs": [
        {
          "output_type": "stream",
          "name": "stdout",
          "text": [
            "Collecting numpy==1.23.0\n",
            "  Downloading numpy-1.23.0.tar.gz (10.7 MB)\n",
            "\u001b[2K     \u001b[90m━━━━━━━━━━━━━━━━━━━━━━━━━━━━━━━━━━━━━━━━\u001b[0m \u001b[32m10.7/10.7 MB\u001b[0m \u001b[31m58.8 MB/s\u001b[0m eta \u001b[36m0:00:00\u001b[0m\n",
            "\u001b[?25h  Installing build dependencies ... \u001b[?25l\u001b[?25hdone\n",
            "  Getting requirements to build wheel ... \u001b[?25l\u001b[?25hdone\n",
            "  Preparing metadata (pyproject.toml) ... \u001b[?25l\u001b[?25hdone\n",
            "Building wheels for collected packages: numpy\n",
            "  Building wheel for numpy (pyproject.toml) ... \u001b[?25l\u001b[?25hdone\n",
            "  Created wheel for numpy: filename=numpy-1.23.0-cp311-cp311-linux_x86_64.whl size=19730252 sha256=4cc9ca12db19aa5ae2d260ee34f9a048d209033f5d83a710f8c24ab6578f4dc0\n",
            "  Stored in directory: /root/.cache/pip/wheels/6d/36/1a/3ec6b85008bea3151efb003f5d41baa7bf4966cb43c1c2470b\n",
            "Successfully built numpy\n",
            "Installing collected packages: numpy\n",
            "  Attempting uninstall: numpy\n",
            "    Found existing installation: numpy 2.0.2\n",
            "    Uninstalling numpy-2.0.2:\n",
            "      Successfully uninstalled numpy-2.0.2\n",
            "\u001b[31mERROR: pip's dependency resolver does not currently take into account all the packages that are installed. This behaviour is the source of the following dependency conflicts.\n",
            "xarray 2025.1.2 requires numpy>=1.24, but you have numpy 1.23.0 which is incompatible.\n",
            "scipy 1.14.1 requires numpy<2.3,>=1.23.5, but you have numpy 1.23.0 which is incompatible.\n",
            "opencv-contrib-python 4.11.0.86 requires numpy>=1.23.5; python_version >= \"3.11\", but you have numpy 1.23.0 which is incompatible.\n",
            "bigframes 1.42.0 requires numpy>=1.24.0, but you have numpy 1.23.0 which is incompatible.\n",
            "dm-tree 0.1.9 requires numpy>=1.23.3; python_version >= \"3.11\", but you have numpy 1.23.0 which is incompatible.\n",
            "chex 0.1.89 requires numpy>=1.24.1, but you have numpy 1.23.0 which is incompatible.\n",
            "albumentations 2.0.5 requires numpy>=1.24.4, but you have numpy 1.23.0 which is incompatible.\n",
            "pymc 5.21.2 requires numpy>=1.25.0, but you have numpy 1.23.0 which is incompatible.\n",
            "tensorflow 2.18.0 requires numpy<2.1.0,>=1.26.0, but you have numpy 1.23.0 which is incompatible.\n",
            "treescope 0.1.9 requires numpy>=1.25.2, but you have numpy 1.23.0 which is incompatible.\n",
            "mizani 0.13.2 requires numpy>=1.23.5, but you have numpy 1.23.0 which is incompatible.\n",
            "flax 0.10.5 requires numpy>=1.23.2; python_version >= \"3.11\", but you have numpy 1.23.0 which is incompatible.\n",
            "pandas 2.2.2 requires numpy>=1.23.2; python_version == \"3.11\", but you have numpy 1.23.0 which is incompatible.\n",
            "albucore 0.0.23 requires numpy>=1.24.4, but you have numpy 1.23.0 which is incompatible.\n",
            "opencv-python 4.11.0.86 requires numpy>=1.23.5; python_version >= \"3.11\", but you have numpy 1.23.0 which is incompatible.\n",
            "jax 0.5.2 requires numpy>=1.25, but you have numpy 1.23.0 which is incompatible.\n",
            "opencv-python-headless 4.11.0.86 requires numpy>=1.23.5; python_version >= \"3.11\", but you have numpy 1.23.0 which is incompatible.\n",
            "scikit-image 0.25.2 requires numpy>=1.24, but you have numpy 1.23.0 which is incompatible.\n",
            "ml-dtypes 0.4.1 requires numpy>=1.23.3; python_version >= \"3.11\", but you have numpy 1.23.0 which is incompatible.\n",
            "pandas-stubs 2.2.2.240909 requires numpy>=1.23.5, but you have numpy 1.23.0 which is incompatible.\n",
            "blosc2 3.3.0 requires numpy>=1.26, but you have numpy 1.23.0 which is incompatible.\n",
            "thinc 8.3.6 requires numpy<3.0.0,>=2.0.0, but you have numpy 1.23.0 which is incompatible.\n",
            "plotnine 0.14.5 requires numpy>=1.23.5, but you have numpy 1.23.0 which is incompatible.\n",
            "jaxlib 0.5.1 requires numpy>=1.25, but you have numpy 1.23.0 which is incompatible.\n",
            "imbalanced-learn 0.13.0 requires numpy<3,>=1.24.3, but you have numpy 1.23.0 which is incompatible.\n",
            "astropy 7.0.1 requires numpy>=1.23.2, but you have numpy 1.23.0 which is incompatible.\u001b[0m\u001b[31m\n",
            "\u001b[0mSuccessfully installed numpy-1.23.0\n"
          ]
        },
        {
          "output_type": "display_data",
          "data": {
            "application/vnd.colab-display-data+json": {
              "pip_warning": {
                "packages": [
                  "numpy"
                ]
              },
              "id": "62e2873cd98a42488c549e7d27a56544"
            }
          },
          "metadata": {}
        }
      ]
    },
    {
      "cell_type": "code",
      "source": [
        "!pip install Box2D"
      ],
      "metadata": {
        "colab": {
          "base_uri": "https://localhost:8080/"
        },
        "id": "uulsjaR59K95",
        "outputId": "cbe8d48d-7db3-42d8-a15a-08d22b252e0e"
      },
      "id": "uulsjaR59K95",
      "execution_count": 6,
      "outputs": [
        {
          "output_type": "stream",
          "name": "stdout",
          "text": [
            "Collecting Box2D\n",
            "  Downloading Box2D-2.3.10-cp311-cp311-manylinux_2_17_x86_64.manylinux2014_x86_64.whl.metadata (573 bytes)\n",
            "Downloading Box2D-2.3.10-cp311-cp311-manylinux_2_17_x86_64.manylinux2014_x86_64.whl (3.7 MB)\n",
            "\u001b[2K   \u001b[90m━━━━━━━━━━━━━━━━━━━━━━━━━━━━━━━━━━━━━━━━\u001b[0m \u001b[32m3.7/3.7 MB\u001b[0m \u001b[31m7.6 MB/s\u001b[0m eta \u001b[36m0:00:00\u001b[0m\n",
            "\u001b[?25hInstalling collected packages: Box2D\n",
            "Successfully installed Box2D-2.3.10\n"
          ]
        }
      ]
    },
    {
      "cell_type": "code",
      "execution_count": 1,
      "id": "7160e239",
      "metadata": {
        "id": "7160e239"
      },
      "outputs": [],
      "source": [
        "import torch\n",
        "import torch.nn as nn\n",
        "import torch.optim as optim\n",
        "\n",
        "import random\n",
        "import numpy as np\n",
        "import gym\n",
        "import gym.spaces as sp\n",
        "from tqdm import trange\n",
        "from time import sleep\n",
        "from collections import namedtuple, deque\n",
        "import matplotlib.pyplot as plt\n",
        "\n",
        "device = torch.device(\"cuda:0\" if torch.cuda.is_available() else \"cpu\")\n",
        "\n",
        "#%% Policy network\n",
        "class QNet(nn.Module):\n",
        "    # Policy Network\n",
        "    def __init__(self, n_states, n_actions, n_hidden=64):\n",
        "        super(QNet, self).__init__()\n",
        "\n",
        "        self.fc = nn.Sequential(\n",
        "            nn.Linear(n_states, n_hidden),\n",
        "            nn.ReLU(),\n",
        "            nn.Linear(n_hidden, n_hidden),\n",
        "            nn.ReLU(),\n",
        "            nn.Linear(n_hidden, n_actions)\n",
        "            )\n",
        "\n",
        "    def forward(self, x):\n",
        "        return self.fc(x)\n",
        "\n",
        "#%% dqn\n",
        "class DQN():\n",
        "    def __init__(self, n_states, n_actions, batch_size=64, lr=1e-4, gamma=0.99, mem_size=int(1e5), learn_step=5, tau=1e-3):\n",
        "        self.n_states = n_states\n",
        "        self.n_actions = n_actions\n",
        "        self.batch_size = batch_size\n",
        "        self.gamma = gamma\n",
        "        self.learn_step = learn_step\n",
        "        self.tau = tau\n",
        "\n",
        "        # model\n",
        "        self.net_eval = QNet(n_states, n_actions).to(device)\n",
        "        self.net_target = QNet(n_states, n_actions).to(device)\n",
        "        self.optimizer = optim.Adam(self.net_eval.parameters(), lr=lr)\n",
        "        self.criterion = nn.MSELoss()\n",
        "\n",
        "        # memory\n",
        "        self.memory = ReplayBuffer(n_actions, mem_size, batch_size)\n",
        "        self.counter = 0    # update cycle counter\n",
        "\n",
        "    def getAction(self, state, epsilon):\n",
        "        state = torch.from_numpy(state).float().unsqueeze(0).to(device)\n",
        "\n",
        "        self.net_eval.eval()\n",
        "        with torch.no_grad():\n",
        "            action_values = self.net_eval(state)\n",
        "        self.net_eval.train()\n",
        "\n",
        "        # epsilon-greedy\n",
        "        if random.random() < epsilon:\n",
        "            action = random.choice(np.arange(self.n_actions))\n",
        "        else:\n",
        "            action = np.argmax(action_values.cpu().data.numpy())\n",
        "\n",
        "        return action\n",
        "\n",
        "    def save2memory(self, state, action, reward, next_state, done):\n",
        "        self.memory.add(state, action, reward, next_state, done)\n",
        "\n",
        "        self.counter += 1\n",
        "        if self.counter % self.learn_step == 0:\n",
        "            if len(self.memory) >= self.batch_size:\n",
        "                experiences = self.memory.sample()\n",
        "                self.learn(experiences)\n",
        "\n",
        "    def learn(self, experiences):\n",
        "        states, actions, rewards, next_states, dones = experiences\n",
        "\n",
        "        q_target = self.net_target(next_states).detach().max(axis=1)[0].unsqueeze(1)\n",
        "        y_j = rewards + self.gamma * q_target * (1 - dones)          # target, if terminal then y_j = rewards\n",
        "        q_eval = self.net_eval(states).gather(1, actions)\n",
        "\n",
        "        # loss backprop\n",
        "        loss = self.criterion(q_eval, y_j)\n",
        "        self.optimizer.zero_grad()\n",
        "        loss.backward()\n",
        "        self.optimizer.step()\n",
        "\n",
        "        # soft update target network\n",
        "        self.softUpdate()\n",
        "\n",
        "    def softUpdate(self):\n",
        "        for eval_param, target_param in zip(self.net_eval.parameters(), self.net_target.parameters()):\n",
        "            target_param.data.copy_(self.tau*eval_param.data + (1.0-self.tau)*target_param.data)\n",
        "\n",
        "\n",
        "class ReplayBuffer():\n",
        "    def __init__(self, n_actions, memory_size, batch_size):\n",
        "        self.n_actions = n_actions\n",
        "        self.batch_size = batch_size\n",
        "        self.memory = deque(maxlen = memory_size)\n",
        "        self.experience = namedtuple(\"Experience\", field_names=[\"state\", \"action\", \"reward\", \"next_state\", \"done\"])\n",
        "\n",
        "    def __len__(self):\n",
        "        return len(self.memory)\n",
        "\n",
        "    def add(self, state, action, reward, next_state, done):\n",
        "        e = self.experience(state, action, reward, next_state, done)\n",
        "        self.memory.append(e)\n",
        "\n",
        "    def sample(self):\n",
        "        experiences = random.sample(self.memory, k=self.batch_size)\n",
        "\n",
        "        states = torch.from_numpy(np.vstack([e.state for e in experiences if e is not None])).float().to(device)\n",
        "        actions = torch.from_numpy(np.vstack([e.action for e in experiences if e is not None])).long().to(device)\n",
        "        rewards = torch.from_numpy(np.vstack([e.reward for e in experiences if e is not None])).float().to(device)\n",
        "        next_states = torch.from_numpy(np.vstack([e.next_state for e in experiences if e is not None])).float().to(device)\n",
        "        dones = torch.from_numpy(np.vstack([e.done for e in experiences if e is not None]).astype(np.uint8)).float().to(device)\n",
        "\n",
        "        return (states, actions, rewards, next_states, dones)"
      ]
    },
    {
      "cell_type": "code",
      "execution_count": 2,
      "id": "f40bd905",
      "metadata": {
        "id": "f40bd905"
      },
      "outputs": [],
      "source": [
        "def train(env, agent, n_episodes=2000, max_steps=1000, eps_start=1.0, eps_end=0.1, eps_decay=0.995, target=200, chkpt=False):\n",
        "    score_hist = []\n",
        "    epsilon = eps_start\n",
        "\n",
        "    bar_format = '{l_bar}{bar:10}| {n:4}/{total_fmt} [{elapsed:>7}<{remaining:>7}, {rate_fmt}{postfix}]'\n",
        "    # bar_format = '{l_bar}{bar:10}{r_bar}'\n",
        "    pbar = trange(n_episodes, unit=\"ep\", bar_format=bar_format, ascii=True)\n",
        "    for idx_epi in pbar:\n",
        "        state = env.reset()\n",
        "        score = 0\n",
        "        for idx_step in range(max_steps):\n",
        "            action = agent.getAction(state, epsilon)\n",
        "            next_state, reward, done, _ = env.step(action)\n",
        "            agent.save2memory(state, action, reward, next_state, done)\n",
        "            state = next_state\n",
        "            score += reward\n",
        "\n",
        "            if done:\n",
        "                break\n",
        "\n",
        "        score_hist.append(score)\n",
        "        score_avg = np.mean(score_hist[-100:])\n",
        "        epsilon = max(eps_end, epsilon*eps_decay)\n",
        "\n",
        "        pbar.set_postfix_str(f\"Score: {score: 7.2f}, 100 score avg: {score_avg: 7.2f}\")\n",
        "        pbar.update(0)\n",
        "\n",
        "        # if (idx_epi+1) % 100 == 0:\n",
        "        #     print(\" \")\n",
        "        #     sleep(0.1)\n",
        "\n",
        "        # Early stop\n",
        "        if len(score_hist) >= 100:\n",
        "            if score_avg >= target:\n",
        "                break\n",
        "\n",
        "    if (idx_epi+1) < n_episodes:\n",
        "        print(\"\\nTarget Reached!\")\n",
        "    else:\n",
        "        print(\"\\nDone!\")\n",
        "\n",
        "    if chkpt:\n",
        "        torch.save(agent.net_eval.state_dict(), 'checkpoint.pth')\n",
        "\n",
        "    return score_hist\n",
        "\n",
        "#%% Test Lunar Lander\n",
        "def testLander(env, agent, loop=3):\n",
        "    for i in range(loop):\n",
        "        state = env.reset()\n",
        "        for idx_step in range(500):\n",
        "            action = agent.getAction(state, epsilon=0)\n",
        "            env.render()\n",
        "            state, reward, done, _ = env.step(action)\n",
        "            if done:\n",
        "                break\n",
        "    env.close()\n",
        "\n",
        "def plotScore(scores):\n",
        "    plt.figure()\n",
        "    plt.plot(scores)\n",
        "    plt.title(\"Score History\")\n",
        "    plt.xlabel(\"Episodes\")\n",
        "    plt.show()"
      ]
    },
    {
      "cell_type": "code",
      "execution_count": 12,
      "id": "57a9abf7",
      "metadata": {
        "id": "57a9abf7"
      },
      "outputs": [],
      "source": [
        "BATCH_SIZE = 128           # Good size for faster GPU computation\n",
        "LR = 3e-4                  # Balanced LR for faster convergence without overshooting\n",
        "EPISODES = 1500            # Reduced slightly to encourage faster runs; can stop early via TARGET_SCORE\n",
        "TARGET_SCORE = 250.        # Standard solve threshold\n",
        "GAMMA = 0.98               # Slightly lower for quicker reward propagation\n",
        "MEMORY_SIZE = 50000        # Large enough to generalize but not so big it slows down sampling\n",
        "LEARN_STEP = 2             # More frequent updates without being too aggressive\n",
        "TAU = 1e-2                 # Quicker soft update for target network\n",
        "SAVE_CHKPT = True         # Enable if you want to resume or analyze best models\n"
      ]
    },
    {
      "cell_type": "code",
      "source": [
        "state, info = env.reset()"
      ],
      "metadata": {
        "id": "OR4iJRqhYnO3"
      },
      "id": "OR4iJRqhYnO3",
      "execution_count": 20,
      "outputs": []
    },
    {
      "cell_type": "code",
      "execution_count": 13,
      "id": "407052f3",
      "metadata": {
        "colab": {
          "base_uri": "https://localhost:8080/",
          "height": 620
        },
        "id": "407052f3",
        "outputId": "0d83a461-5408-4ed1-c3ef-7e3ec43692bf"
      },
      "outputs": [
        {
          "output_type": "stream",
          "name": "stderr",
          "text": [
            "/usr/local/lib/python3.11/dist-packages/gym/core.py:317: DeprecationWarning: \u001b[33mWARN: Initializing wrapper in old step API which returns one bool instead of two. It is recommended to set `new_step_api=True` to use new step API. This will be the default behaviour in future.\u001b[0m\n",
            "  deprecation(\n",
            "/usr/local/lib/python3.11/dist-packages/gym/wrappers/step_api_compatibility.py:39: DeprecationWarning: \u001b[33mWARN: Initializing environment in old step API which returns one bool instead of two. It is recommended to set `new_step_api=True` to use new step API. This will be the default behaviour in future.\u001b[0m\n",
            "  deprecation(\n",
            " 38%|###8      |  571/1500 [  17:20<  28:12,  1.82s/ep, Score:  306.11, 100 score avg:  250.96]\n"
          ]
        },
        {
          "output_type": "stream",
          "name": "stdout",
          "text": [
            "\n",
            "Target Reached!\n"
          ]
        },
        {
          "output_type": "display_data",
          "data": {
            "text/plain": [
              "<Figure size 640x480 with 1 Axes>"
            ],
            "image/png": "[encoded data removed]"
          },
          "metadata": {}
        }
      ],
      "source": [
        "env = gym.make('LunarLander-v2')\n",
        "num_states = env.observation_space.shape[0]\n",
        "num_actions = env.action_space.n\n",
        "\n",
        "agent = DQN(\n",
        "    n_states=num_states,\n",
        "    n_actions=num_actions,\n",
        "    batch_size=BATCH_SIZE,\n",
        "    lr=LR,\n",
        "    gamma=GAMMA,\n",
        "    mem_size=MEMORY_SIZE,\n",
        "    learn_step=LEARN_STEP,\n",
        "    tau=TAU\n",
        ")\n",
        "\n",
        "# Make sure the train loop unpacks the reset properly\n",
        "score_hist = train(env, agent, n_episodes=EPISODES, target=TARGET_SCORE, chkpt=SAVE_CHKPT)\n",
        "plotScore(score_hist)\n",
        "\n",
        "if device.type == \"cuda\":\n",
        "    torch.cuda.empty_cache()\n"
      ]
    },
    {
      "cell_type": "code",
      "source": [
        "import torch\n",
        "\n",
        "weights_filename = \"/content/dqn_lander_weights_20250416-155933.pth\"\n",
        "\n",
        "agent.net_eval.load_state_dict(torch.load(weights_filename, map_location=device))\n",
        "agent.net_eval.eval()\n",
        "\n",
        "print(f\"✅ Loaded weights from {weights_filename}\")\n",
        "\n"
      ],
      "metadata": {
        "colab": {
          "base_uri": "https://localhost:8080/"
        },
        "id": "SCaO1-xsVXl-",
        "outputId": "c73961a2-30b4-4bbe-f1fe-30d7a34f4c6d"
      },
      "id": "SCaO1-xsVXl-",
      "execution_count": 21,
      "outputs": [
        {
          "output_type": "stream",
          "name": "stdout",
          "text": [
            "✅ Loaded weights from /content/dqn_lander_weights_20250416-155933.pth\n"
          ]
        }
      ]
    },
    {
      "cell_type": "code",
      "execution_count": 22,
      "id": "72b48127",
      "metadata": {
        "id": "72b48127"
      },
      "outputs": [],
      "source": [
        "def testLander(agent, loop=10):\n",
        "    for i in range(loop):\n",
        "        env = gym.make(\"LunarLander-v2\")  # create fresh env\n",
        "        state = env.reset()\n",
        "        done = False\n",
        "        score = 0\n",
        "        while not done:\n",
        "            env.render(mode=\"rgb_array\")  # use rgb_array if headless\n",
        "            action = agent.getAction(state, epsilon=0)\n",
        "            state, reward, done, _ = env.step(action)\n",
        "            score += reward\n",
        "        print(f\"Episode {i + 1}, Score: {score}\")\n",
        "        env.close()\n"
      ]
    },
    {
      "cell_type": "markdown",
      "id": "be4be6b2",
      "metadata": {
        "id": "be4be6b2"
      },
      "source": [
        "Run code below to save tested results into a gif!   \n",
        "Saved gifs will appear in `gifs` folder."
      ]
    },
    {
      "cell_type": "code",
      "execution_count": 19,
      "id": "c03247c7",
      "metadata": {
        "id": "c03247c7",
        "outputId": "4bb78b90-70ab-4321-8e4b-69d471ce6961",
        "colab": {
          "base_uri": "https://localhost:8080/",
          "height": 17
        }
      },
      "outputs": [
        {
          "output_type": "display_data",
          "data": {
            "text/plain": [
              "<IPython.core.display.Javascript object>"
            ],
            "application/javascript": [
              "\n",
              "    async function download(id, filename, size) {\n",
              "      if (!google.colab.kernel.accessAllowed) {\n",
              "        return;\n",
              "      }\n",
              "      const div = document.createElement('div');\n",
              "      const label = document.createElement('label');\n",
              "      label.textContent = `Downloading \"${filename}\": `;\n",
              "      div.appendChild(label);\n",
              "      const progress = document.createElement('progress');\n",
              "      progress.max = size;\n",
              "      div.appendChild(progress);\n",
              "      document.body.appendChild(div);\n",
              "\n",
              "      const buffers = [];\n",
              "      let downloaded = 0;\n",
              "\n",
              "      const channel = await google.colab.kernel.comms.open(id);\n",
              "      // Send a message to notify the kernel that we're ready.\n",
              "      channel.send({})\n",
              "\n",
              "      for await (const message of channel.messages) {\n",
              "        // Send a message to notify the kernel that we're ready.\n",
              "        channel.send({})\n",
              "        if (message.buffers) {\n",
              "          for (const buffer of message.buffers) {\n",
              "            buffers.push(buffer);\n",
              "            downloaded += buffer.byteLength;\n",
              "            progress.value = downloaded;\n",
              "          }\n",
              "        }\n",
              "      }\n",
              "      const blob = new Blob(buffers, {type: 'application/binary'});\n",
              "      const a = document.createElement('a');\n",
              "      a.href = window.URL.createObjectURL(blob);\n",
              "      a.download = filename;\n",
              "      div.appendChild(a);\n",
              "      a.click();\n",
              "      div.remove();\n",
              "    }\n",
              "  "
            ]
          },
          "metadata": {}
        },
        {
          "output_type": "display_data",
          "data": {
            "text/plain": [
              "<IPython.core.display.Javascript object>"
            ],
            "application/javascript": [
              "download(\"download_350091d5-c378-45df-a441-bacd7e165a61\", \"dqn_lander_weights_20250416-155933.pth\", 22998)"
            ]
          },
          "metadata": {}
        }
      ],
      "source": [
        "import torch\n",
        "import time\n",
        "from google.colab import files\n",
        "\n",
        "# Step 1: Save model weights with a timestamp\n",
        "timestamp = time.strftime(\"%Y%m%d-%H%M%S\")\n",
        "filename = f\"dqn_lander_weights_{timestamp}.pth\"\n",
        "torch.save(agent.net_eval.state_dict(), filename)\n",
        "\n",
        "# Step 2: Download the file to your local machine\n",
        "files.download(filename)\n"
      ]
    },
    {
      "cell_type": "code",
      "source": [
        "import os\n",
        "import imageio\n",
        "from PIL import Image, ImageDraw, ImageFont\n",
        "\n",
        "def TextOnImg(img, score):\n",
        "    img = Image.fromarray(img)\n",
        "    try:\n",
        "        font = ImageFont.truetype(\"DejaVuSans-Bold.ttf\", 18)  # Commonly available in Colab\n",
        "    except:\n",
        "        font = ImageFont.load_default()  # Fallback to default\n",
        "    draw = ImageDraw.Draw(img)\n",
        "    draw.text((20, 20), f\"Score={score: .2f}\", font=font, fill=(255, 255, 255))\n",
        "    return np.array(img)\n",
        "\n",
        "\n",
        "    return np.array(img)\n",
        "\n",
        "def save_frames_as_gif(frames, filename, path=\"/content/\"):\n",
        "    if not os.path.exists(path):\n",
        "        os.makedirs(path)\n",
        "\n",
        "    print(\"Saving gif...\", end=\"\")\n",
        "    imageio.mimsave(path + filename + \".gif\", frames, fps=60)\n",
        "    print(\"Done!\")\n",
        "\n",
        "\n",
        "def gym2gif(env, agent, filename=\"gym_animation\", loop=3):\n",
        "    frames = []\n",
        "    for i in range(loop):\n",
        "        state = env.reset()\n",
        "        score = 0\n",
        "        for idx_step in range(500):\n",
        "            frame = env.render(mode=\"rgb_array\")\n",
        "            frames.append(TextOnImg(frame, score))\n",
        "            action = agent.getAction(state, epsilon=0)\n",
        "            state, reward, done, _ = env.step(action)\n",
        "            score += reward\n",
        "            if done:\n",
        "                break\n",
        "    env.close()\n",
        "    save_frames_as_gif(frames, filename=filename)\n",
        "\n",
        "gym2gif(env, agent, loop=5)\n",
        "\n",
        "from google.colab import files\n",
        "files.download(\"/content/gym_animation.gif\")\n"
      ],
      "metadata": {
        "colab": {
          "base_uri": "https://localhost:8080/",
          "height": 35
        },
        "id": "yj2a5sAB0OLQ",
        "outputId": "76d9576c-1259-46b8-f615-82900a980456"
      },
      "id": "yj2a5sAB0OLQ",
      "execution_count": 18,
      "outputs": [
        {
          "output_type": "stream",
          "name": "stdout",
          "text": [
            "Saving gif...Done!\n"
          ]
        },
        {
          "output_type": "display_data",
          "data": {
            "text/plain": [
              "<IPython.core.display.Javascript object>"
            ],
            "application/javascript": [
              "\n",
              "    async function download(id, filename, size) {\n",
              "      if (!google.colab.kernel.accessAllowed) {\n",
              "        return;\n",
              "      }\n",
              "      const div = document.createElement('div');\n",
              "      const label = document.createElement('label');\n",
              "      label.textContent = `Downloading \"${filename}\": `;\n",
              "      div.appendChild(label);\n",
              "      const progress = document.createElement('progress');\n",
              "      progress.max = size;\n",
              "      div.appendChild(progress);\n",
              "      document.body.appendChild(div);\n",
              "\n",
              "      const buffers = [];\n",
              "      let downloaded = 0;\n",
              "\n",
              "      const channel = await google.colab.kernel.comms.open(id);\n",
              "      // Send a message to notify the kernel that we're ready.\n",
              "      channel.send({})\n",
              "\n",
              "      for await (const message of channel.messages) {\n",
              "        // Send a message to notify the kernel that we're ready.\n",
              "        channel.send({})\n",
              "        if (message.buffers) {\n",
              "          for (const buffer of message.buffers) {\n",
              "            buffers.push(buffer);\n",
              "            downloaded += buffer.byteLength;\n",
              "            progress.value = downloaded;\n",
              "          }\n",
              "        }\n",
              "      }\n",
              "      const blob = new Blob(buffers, {type: 'application/binary'});\n",
              "      const a = document.createElement('a');\n",
              "      a.href = window.URL.createObjectURL(blob);\n",
              "      a.download = filename;\n",
              "      div.appendChild(a);\n",
              "      a.click();\n",
              "      div.remove();\n",
              "    }\n",
              "  "
            ]
          },
          "metadata": {}
        },
        {
          "output_type": "display_data",
          "data": {
            "text/plain": [
              "<IPython.core.display.Javascript object>"
            ],
            "application/javascript": [
              "download(\"download_e9b9e380-0bba-4537-8ff9-8423eeca4fae\", \"gym_animation.gif\", 3525411)"
            ]
          },
          "metadata": {}
        }
      ]
    }
  ],
  "metadata": {
    "interpreter": {
      "hash": "01c36111a1525a5ff407868170e7863364c687246ea4e433c1c4d9e429760133"
    },
    "kernelspec": {
      "display_name": "Python 3",
      "name": "python3"
    },
    "language_info": {
      "codemirror_mode": {
        "name": "ipython",
        "version": 3
      },
      "file_extension": ".py",
      "mimetype": "text/x-python",
      "name": "python",
      "nbconvert_exporter": "python",
      "pygments_lexer": "ipython3",
      "version": "3.6.13"
    },
    "colab": {
      "provenance": []
    }
  },
  "nbformat": 4,
  "nbformat_minor": 5
}